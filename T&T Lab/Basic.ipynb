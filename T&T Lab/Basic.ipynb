{
 "cells": [
  {
   "attachments": {},
   "cell_type": "markdown",
   "metadata": {},
   "source": [
    "# BASIC CONCEPTS"
   ]
  },
  {
   "attachments": {},
   "cell_type": "markdown",
   "metadata": {},
   "source": [
    "## BASIC MATH"
   ]
  },
  {
   "cell_type": "code",
   "execution_count": 32,
   "metadata": {},
   "outputs": [
    {
     "name": "stdout",
     "output_type": "stream",
     "text": [
      "10 3\n"
     ]
    }
   ],
   "source": [
    "a = 10\n",
    "b = 3\n",
    "print(f'{a} {b}')"
   ]
  },
  {
   "cell_type": "code",
   "execution_count": 34,
   "metadata": {},
   "outputs": [
    {
     "name": "stdout",
     "output_type": "stream",
     "text": [
      "Value of a is 10 and value of b is 3\n",
      "Value of a+b is 13\n",
      "Value of a-b is 7\n",
      "Value of a*b is 30\n",
      "Value of a/b is 3.3333333333333335\n",
      "Value of a//b is 3\n",
      "Value of a%b is 1\n"
     ]
    }
   ],
   "source": [
    "print(f'Value of a is {a} and value of b is {b}')\n",
    "print(f'Value of a+b is {a+b}')\n",
    "print(f'Value of a-b is {a-b}')\n",
    "print(f'Value of a*b is {a*b}')\n",
    "print(f'Value of a/b is {a/b}')\n",
    "print(f'Value of a//b is {a//b}')\n",
    "print(f'Value of a%b is {a%b}')\n"
   ]
  },
  {
   "attachments": {},
   "cell_type": "markdown",
   "metadata": {},
   "source": [
    "## String Manipulation"
   ]
  },
  {
   "cell_type": "code",
   "execution_count": 35,
   "metadata": {},
   "outputs": [
    {
     "name": "stdout",
     "output_type": "stream",
     "text": [
      "The string is Hello World\n",
      "String Slicing\n",
      "First 5 characters of the string is Hello\n",
      "Last 5 characters of the string is World\n",
      "Characters from 3rd to 5th position is llo\n"
     ]
    }
   ],
   "source": [
    "str = 'Hello World'\n",
    "print(f'The string is {str}')\n",
    "print(f'String Slicing')\n",
    "print(f'First 5 characters of the string is {str[:5]}')\n",
    "print(f'Last 5 characters of the string is {str[-5:]}')\n",
    "print(f'Characters from 3rd to 5th position is {str[2:5]}')\n",
    "\n"
   ]
  },
  {
   "attachments": {},
   "cell_type": "markdown",
   "metadata": {},
   "source": [
    "## LIST"
   ]
  },
  {
   "cell_type": "code",
   "execution_count": null,
   "metadata": {},
   "outputs": [],
   "source": [
    "a = [1,2,3,4]\n",
    "print(type(a))\n",
    "print(a)"
   ]
  },
  {
   "cell_type": "code",
   "execution_count": null,
   "metadata": {},
   "outputs": [],
   "source": [
    "print(a[0])\n",
    "print(type(a[0]))"
   ]
  },
  {
   "cell_type": "code",
   "execution_count": null,
   "metadata": {},
   "outputs": [],
   "source": [
    "for n in a:\n",
    "    print(n, pow(n,2))"
   ]
  },
  {
   "attachments": {},
   "cell_type": "markdown",
   "metadata": {},
   "source": [
    "## APPENDING LIST"
   ]
  },
  {
   "cell_type": "code",
   "execution_count": null,
   "metadata": {},
   "outputs": [],
   "source": [
    "print(\"Before editing: \", a)\n",
    "a[3] = 10\n",
    "print(\"After editing: \" ,a)\n"
   ]
  },
  {
   "cell_type": "code",
   "execution_count": null,
   "metadata": {},
   "outputs": [],
   "source": [
    "a.append('hi')\n",
    "print(a)\n"
   ]
  },
  {
   "cell_type": "code",
   "execution_count": null,
   "metadata": {},
   "outputs": [],
   "source": [
    "a.append([111, 'apple'])\n",
    "print(a)"
   ]
  },
  {
   "attachments": {},
   "cell_type": "markdown",
   "metadata": {},
   "source": [
    "## USE OF HELP"
   ]
  },
  {
   "cell_type": "code",
   "execution_count": null,
   "metadata": {},
   "outputs": [],
   "source": [
    "\n",
    "help(a)"
   ]
  },
  {
   "attachments": {},
   "cell_type": "markdown",
   "metadata": {},
   "source": [
    "## TUPLE"
   ]
  },
  {
   "cell_type": "code",
   "execution_count": null,
   "metadata": {},
   "outputs": [],
   "source": [
    "b = (1,2,3,4)\n",
    "print(type(b))\n",
    "print(b)"
   ]
  },
  {
   "cell_type": "code",
   "execution_count": null,
   "metadata": {},
   "outputs": [],
   "source": [
    "b[2] = 10\n",
    "## Error: 'tuple' object does not support item assignment"
   ]
  },
  {
   "attachments": {},
   "cell_type": "markdown",
   "metadata": {},
   "source": [
    "## DICTIONARY"
   ]
  },
  {
   "cell_type": "markdown",
   "metadata": {},
   "source": []
  },
  {
   "cell_type": "code",
   "execution_count": null,
   "metadata": {},
   "outputs": [],
   "source": [
    "c = {\n",
    "    'Name' : 'Person-1',\n",
    "    'Age' : 20,\n",
    "    'Gender' : 'M',\n",
    "    'Status' : 'Dead'\n",
    "}\n",
    "print(type(c))\n",
    "print(c)"
   ]
  },
  {
   "cell_type": "code",
   "execution_count": null,
   "metadata": {},
   "outputs": [],
   "source": [
    "print(c['Status'])"
   ]
  },
  {
   "cell_type": "code",
   "execution_count": null,
   "metadata": {},
   "outputs": [],
   "source": [
    "for key in c:\n",
    "    print(key, '\\t->', c[key])"
   ]
  },
  {
   "cell_type": "code",
   "execution_count": null,
   "metadata": {},
   "outputs": [],
   "source": [
    "print('Status' in c)\n",
    "print('Hobbies' in c)"
   ]
  },
  {
   "cell_type": "code",
   "execution_count": null,
   "metadata": {},
   "outputs": [],
   "source": [
    "d = {'a' : 1, 'a' : 2, 'b' : 3}\n",
    "print(type(d))\n",
    "print(d)"
   ]
  },
  {
   "attachments": {},
   "cell_type": "markdown",
   "metadata": {},
   "source": [
    "## OBJECT ORIENTED PROGRAMMING"
   ]
  },
  {
   "cell_type": "code",
   "execution_count": null,
   "metadata": {},
   "outputs": [],
   "source": [
    "class Student:\n",
    "    def __init__(self, name):\n",
    "        self.name = name\n",
    "        self.marks = {}\n",
    "    def addMarks(self, subject, marks):\n",
    "        self.marks.update({subject : marks})\n",
    "    def printTotal(self):\n",
    "        total = 0\n",
    "        maximum = 0\n",
    "        for key in self.marks:\n",
    "            total += self.marks[key]\n",
    "            maximum += 100\n",
    "        print(self.name, 'got', total, 'marks', 'out of', maximum)"
   ]
  },
  {
   "cell_type": "code",
   "execution_count": null,
   "metadata": {},
   "outputs": [],
   "source": [
    "s1 = Student('Person-1')\n",
    "s1.addMarks('Math', 100)\n",
    "s1.addMarks('Science', 90)\n",
    "s1.printTotal()"
   ]
  },
  {
   "attachments": {},
   "cell_type": "markdown",
   "metadata": {},
   "source": [
    "## CLASS"
   ]
  },
  {
   "cell_type": "code",
   "execution_count": null,
   "metadata": {},
   "outputs": [],
   "source": [
    "class Student:\n",
    "    def __init__(self, name):\n",
    "        self.name = name\n",
    "        self.marks = {}\n",
    "    def addMarks(self, subject, marks):\n",
    "        self.marks.update({subject : marks})\n",
    "    def printTotal(self):\n",
    "        total = 0\n",
    "        maximum = 0\n",
    "        for key in self.marks:\n",
    "            total += self.marks[key]\n",
    "            maximum += 100\n",
    "        print(self.name, 'got', total, 'marks', 'out of', maximum)\n",
    "        "
   ]
  },
  {
   "cell_type": "code",
   "execution_count": null,
   "metadata": {},
   "outputs": [],
   "source": [
    "s1 = Student('Person-1')\n",
    "s1.addMarks('Math', 100)\n",
    "s1.addMarks('Science', 90)\n",
    "s1.printTotal()"
   ]
  },
  {
   "attachments": {},
   "cell_type": "markdown",
   "metadata": {},
   "source": [
    "## ABSTRACTION"
   ]
  },
  {
   "cell_type": "code",
   "execution_count": 39,
   "metadata": {},
   "outputs": [
    {
     "name": "stdout",
     "output_type": "stream",
     "text": [
      "Phew Phew! Polly says hi!\n",
      "Woof Woof! Rex says hi!\n",
      "Meow Meow! Tom says hi!\n",
      "Meow Meow! Jerry says hi!\n",
      "Polly is a Parrot\n",
      "Rex is a German Shepherd\n",
      "Tom is a Cat\n"
     ]
    }
   ],
   "source": [
    "class Pet:\n",
    "    def __init__(self, name, kind):\n",
    "        self.name = name\n",
    "        self.kind = kind\n",
    "    \n",
    "    def greet(self):\n",
    "        print('Hello, I am', self.name, 'and I am a', self.kind)\n",
    "    def describe(self):\n",
    "        print(self.name, 'is a', self.kind)\n",
    "\n",
    "class Parrot(Pet):\n",
    "    def __init__(self, name):\n",
    "        Pet.__init__(self, name, 'Parrot')\n",
    "        \n",
    "    def greet(self):\n",
    "        print(\"Phew Phew!\", self.name, 'says hi!')\n",
    "\n",
    "class Dog(Pet):\n",
    "    def __init__(self, name, breed):\n",
    "        Pet.__init__(self, name, 'Dog')\n",
    "        self.breed = breed\n",
    "    def greet(self):\n",
    "        print(\"Woof Woof!\", self.name, 'says hi!')\n",
    "    \n",
    "    def describe(self):\n",
    "        print(self.name, 'is a', self.breed)\n",
    "\n",
    "class Cat(Pet):\n",
    "    def __init__(self, name,color):\n",
    "        Pet.__init__(self, name, 'Cat')\n",
    "        self.color = color\n",
    "    def greet(self):\n",
    "        print(\"Meow Meow!\", self.name, 'says hi!')\n",
    "    def isBlack(self):\n",
    "        if self.color == 'Black':\n",
    "            return True\n",
    "        else:\n",
    "            return False\n",
    "        \n",
    "p1 = Parrot('Polly')\n",
    "p2 = Dog('Rex', 'German Shepherd')\n",
    "p3 = Cat('Tom', 'Black')\n",
    "p4 = Cat('Jerry', 'White')\n",
    "\n",
    "p1.greet()\n",
    "p2.greet()\n",
    "p3.greet()\n",
    "p4.greet()\n",
    "\n",
    "\n",
    "p1.describe()\n",
    "p2.describe()\n",
    "p3.describe()\n"
   ]
  },
  {
   "attachments": {},
   "cell_type": "markdown",
   "metadata": {},
   "source": [
    "## FILE HANDLING"
   ]
  },
  {
   "attachments": {},
   "cell_type": "markdown",
   "metadata": {},
   "source": [
    "### FILE WRITING"
   ]
  },
  {
   "cell_type": "code",
   "execution_count": null,
   "metadata": {},
   "outputs": [],
   "source": [
    "f1 = open('file1.txt', 'w')\n",
    "f1.write('Hello World!\\nThis is a new line.')\n",
    "f1.close()\n"
   ]
  },
  {
   "attachments": {},
   "cell_type": "markdown",
   "metadata": {},
   "source": [
    "### FILE READING"
   ]
  },
  {
   "cell_type": "code",
   "execution_count": null,
   "metadata": {},
   "outputs": [],
   "source": [
    "f2 = open('file1.txt', 'r')\n",
    "print(f2.read())\n",
    "f2.close()"
   ]
  },
  {
   "attachments": {},
   "cell_type": "markdown",
   "metadata": {},
   "source": [
    "### LINE BY LINE READING"
   ]
  },
  {
   "cell_type": "code",
   "execution_count": null,
   "metadata": {},
   "outputs": [],
   "source": [
    "f3 = open('file1.txt', 'r')\n",
    "for l in f3:\n",
    "    print(l.strip())\n",
    "f3.close()"
   ]
  },
  {
   "cell_type": "markdown",
   "metadata": {},
   "source": [
    "## DATABASE OPERATIONS"
   ]
  },
  {
   "cell_type": "code",
   "execution_count": null,
   "metadata": {},
   "outputs": [],
   "source": [
    "from pymongo import MongoClient\n",
    "# IP = 10.3.20.255\n",
    "client = MongoClient('10.3.20.255')\n",
    "friends = client.cs001.friends"
   ]
  },
  {
   "cell_type": "code",
   "execution_count": null,
   "metadata": {},
   "outputs": [],
   "source": [
    "friends.insert_one({'name':'Person-1','year':2018})\n",
    "friends.insert_one({'name':'Person-2','year':2019})\n",
    "friends.insert_one({'name':'Person-3','year':2020})"
   ]
  },
  {
   "cell_type": "code",
   "execution_count": null,
   "metadata": {},
   "outputs": [],
   "source": [
    "\n",
    "friends.update_one({'name':'Person-1'}, {'$set' : {'year' : 2017}})"
   ]
  },
  {
   "cell_type": "code",
   "execution_count": null,
   "metadata": {},
   "outputs": [],
   "source": [
    "friends.find_one({'name':'Person-1'})"
   ]
  },
  {
   "attachments": {},
   "cell_type": "markdown",
   "metadata": {},
   "source": [
    "# Exception Handling"
   ]
  },
  {
   "cell_type": "code",
   "execution_count": 28,
   "metadata": {},
   "outputs": [
    {
     "name": "stdout",
     "output_type": "stream",
     "text": [
      "division by zero\n",
      "Inverse of  1 is 1.0\n",
      "Inverse of  2 is 0.5\n"
     ]
    }
   ],
   "source": [
    "import math\n",
    "\n",
    "def invert(x):\n",
    "    ans = 0\n",
    "    try:\n",
    "        ans = 1/x\n",
    "    except Exception as err:\n",
    "        print(err)\n",
    "    else:\n",
    "        print('Inverse of ', x, 'is', ans)\n",
    "            \n",
    "\n",
    "invert(0)\n",
    "invert(1)\n",
    "invert(2)\n"
   ]
  },
  {
   "cell_type": "code",
   "execution_count": 31,
   "metadata": {},
   "outputs": [
    {
     "name": "stdout",
     "output_type": "stream",
     "text": [
      "1 / 1 = 1.0\n",
      "1 / 2 = 0.5\n",
      "1 / 0 = Undefined\n",
      "1 / abc = Undefined\n",
      "1 / [1, 4, 6] = Undefined\n",
      "1 / 5 = 0.2\n"
     ]
    }
   ],
   "source": [
    "def invert(x):\n",
    "    ans = 0\n",
    "    try:\n",
    "        ans = 1/x\n",
    "    except Exception as err:\n",
    "        pass\n",
    "    else:\n",
    "        return ans\n",
    "    \n",
    "li = [1,2,0,\"abc\",[1,4,6],5]\n",
    "for data in li:\n",
    "    res = invert(data)\n",
    "    if res != None:\n",
    "        print('1 /',data,'=',res)\n",
    "    else:\n",
    "        print('1 /',data,'=','Undefined')\n",
    "\n"
   ]
  },
  {
   "attachments": {},
   "cell_type": "markdown",
   "metadata": {},
   "source": [
    "# LIBRARIES"
   ]
  },
  {
   "attachments": {},
   "cell_type": "markdown",
   "metadata": {},
   "source": [
    "## NUMPY\n"
   ]
  },
  {
   "cell_type": "code",
   "execution_count": null,
   "metadata": {},
   "outputs": [],
   "source": []
  }
 ],
 "metadata": {
  "kernelspec": {
   "display_name": "Python 3",
   "language": "python",
   "name": "python3"
  },
  "language_info": {
   "codemirror_mode": {
    "name": "ipython",
    "version": 3
   },
   "file_extension": ".py",
   "mimetype": "text/x-python",
   "name": "python",
   "nbconvert_exporter": "python",
   "pygments_lexer": "ipython3",
   "version": "3.9.2"
  },
  "orig_nbformat": 4,
  "vscode": {
   "interpreter": {
    "hash": "31f2aee4e71d21fbe5cf8b01ff0e069b9275f58929596ceb00d14d90e3e16cd6"
   }
  }
 },
 "nbformat": 4,
 "nbformat_minor": 2
}
