{
 "cells": [
  {
   "attachments": {},
   "cell_type": "markdown",
   "metadata": {},
   "source": [
    "# BASIC CONCEPTS"
   ]
  },
  {
   "attachments": {},
   "cell_type": "markdown",
   "metadata": {},
   "source": [
    "## BASIC MATH"
   ]
  },
  {
   "cell_type": "code",
   "execution_count": null,
   "metadata": {},
   "outputs": [],
   "source": [
    "a = 10\n",
    "b = 3\n",
    "print(f'{a} {b}')"
   ]
  },
  {
   "cell_type": "code",
   "execution_count": null,
   "metadata": {},
   "outputs": [],
   "source": [
    "print(f'Value of a is {a} and value of b is {b}')\n",
    "print(f'Value of a+b is {a+b}')\n",
    "print(f'Value of a-b is {a-b}')\n",
    "print(f'Value of a*b is {a*b}')\n",
    "print(f'Value of a/b is {a/b}')\n",
    "print(f'Value of a//b is {a//b}')\n",
    "print(f'Value of a%b is {a%b}')\n"
   ]
  },
  {
   "attachments": {},
   "cell_type": "markdown",
   "metadata": {},
   "source": [
    "## String Manipulation"
   ]
  },
  {
   "cell_type": "code",
   "execution_count": null,
   "metadata": {},
   "outputs": [],
   "source": [
    "str = 'Hello World'\n",
    "print(f'The string is {str}')\n",
    "print(f'String Slicing')\n",
    "print(f'First 5 characters of the string is {str[:5]}')\n",
    "print(f'Last 5 characters of the string is {str[-5:]}')\n",
    "print(f'Characters from 3rd to 5th position is {str[2:5]}')"
   ]
  },
  {
   "attachments": {},
   "cell_type": "markdown",
   "metadata": {},
   "source": [
    "## FUNCTION"
   ]
  },
  {
   "cell_type": "code",
   "execution_count": 1,
   "metadata": {},
   "outputs": [
    {
     "name": "stdout",
     "output_type": "stream",
     "text": [
      "Addition of 1 and 2 is 3\n"
     ]
    }
   ],
   "source": [
    "a, b = input().split(' ')\n",
    "def add(a, b):\n",
    "    return int(a) + int(b)\n",
    "\n",
    "print(f'Addition of {a} and {b} is {add(a, b)}')"
   ]
  },
  {
   "attachments": {},
   "cell_type": "markdown",
   "metadata": {},
   "source": [
    "## LOOP"
   ]
  },
  {
   "attachments": {},
   "cell_type": "markdown",
   "metadata": {},
   "source": [
    "- For Loop"
   ]
  },
  {
   "cell_type": "code",
   "execution_count": 12,
   "metadata": {},
   "outputs": [
    {
     "name": "stdout",
     "output_type": "stream",
     "text": [
      "Sum of first 10 natural numbers is 55\n"
     ]
    }
   ],
   "source": [
    "a = int(input())\n",
    "\n",
    "def Sn(n):\n",
    "    sum = 0\n",
    "    for num in range(1,n+1):\n",
    "        sum = sum + num\n",
    "        # print(num)\n",
    "    return sum\n",
    "\n",
    "# Sn(a)\n",
    "\n",
    "print(f'Sum of first {a} natural numbers is {Sn(a)}')"
   ]
  },
  {
   "attachments": {},
   "cell_type": "markdown",
   "metadata": {},
   "source": [
    "## LIST"
   ]
  },
  {
   "cell_type": "code",
   "execution_count": null,
   "metadata": {},
   "outputs": [],
   "source": [
    "a = [1,2,3,4]\n",
    "print(type(a))\n",
    "print(a)"
   ]
  },
  {
   "cell_type": "code",
   "execution_count": null,
   "metadata": {},
   "outputs": [],
   "source": [
    "print(a[0])\n",
    "print(type(a[0]))"
   ]
  },
  {
   "cell_type": "code",
   "execution_count": null,
   "metadata": {},
   "outputs": [],
   "source": [
    "for n in a:\n",
    "    print(n, pow(n,2))"
   ]
  },
  {
   "attachments": {},
   "cell_type": "markdown",
   "metadata": {},
   "source": [
    "## APPENDING LIST"
   ]
  },
  {
   "cell_type": "code",
   "execution_count": null,
   "metadata": {},
   "outputs": [],
   "source": [
    "print(\"Before editing: \", a)\n",
    "a[3] = 10\n",
    "print(\"After editing: \" ,a)\n"
   ]
  },
  {
   "cell_type": "code",
   "execution_count": null,
   "metadata": {},
   "outputs": [],
   "source": [
    "a.append('hi')\n",
    "print(a)\n"
   ]
  },
  {
   "cell_type": "code",
   "execution_count": null,
   "metadata": {},
   "outputs": [],
   "source": [
    "a.append([111, 'apple'])\n",
    "print(a)"
   ]
  },
  {
   "attachments": {},
   "cell_type": "markdown",
   "metadata": {},
   "source": [
    "## USE OF HELP"
   ]
  },
  {
   "cell_type": "code",
   "execution_count": null,
   "metadata": {},
   "outputs": [],
   "source": [
    "\n",
    "help(a)"
   ]
  },
  {
   "attachments": {},
   "cell_type": "markdown",
   "metadata": {},
   "source": [
    "## TUPLE"
   ]
  },
  {
   "cell_type": "code",
   "execution_count": null,
   "metadata": {},
   "outputs": [],
   "source": [
    "b = (1,2,3,4)\n",
    "print(type(b))\n",
    "print(b)"
   ]
  },
  {
   "cell_type": "code",
   "execution_count": null,
   "metadata": {},
   "outputs": [],
   "source": [
    "b[2] = 10\n",
    "## Error: 'tuple' object does not support item assignment"
   ]
  },
  {
   "attachments": {},
   "cell_type": "markdown",
   "metadata": {},
   "source": [
    "## DICTIONARY"
   ]
  },
  {
   "cell_type": "markdown",
   "metadata": {},
   "source": []
  },
  {
   "cell_type": "code",
   "execution_count": 13,
   "metadata": {},
   "outputs": [
    {
     "name": "stdout",
     "output_type": "stream",
     "text": [
      "<class 'dict'>\n",
      "{'Name': 'Person-1', 'Age': 20, 'Gender': 'M', 'Status': 'Dead'}\n"
     ]
    }
   ],
   "source": [
    "c = {\n",
    "    'Name' : 'Person-1',\n",
    "    'Age' : 20,\n",
    "    'Gender' : 'M',\n",
    "    'Status' : 'Dead'\n",
    "}\n",
    "print(type(c))\n",
    "print(c)"
   ]
  },
  {
   "cell_type": "code",
   "execution_count": null,
   "metadata": {},
   "outputs": [],
   "source": [
    "print(c['Status'])"
   ]
  },
  {
   "cell_type": "code",
   "execution_count": 14,
   "metadata": {},
   "outputs": [
    {
     "name": "stdout",
     "output_type": "stream",
     "text": [
      "Name \t-> Person-1\n",
      "Age \t-> 20\n",
      "Gender \t-> M\n",
      "Status \t-> Dead\n"
     ]
    }
   ],
   "source": [
    "for key in c:\n",
    "    print(key, '\\t->', c[key])"
   ]
  },
  {
   "cell_type": "code",
   "execution_count": null,
   "metadata": {},
   "outputs": [],
   "source": [
    "print('Status' in c)\n",
    "print('Hobbies' in c)"
   ]
  },
  {
   "cell_type": "code",
   "execution_count": null,
   "metadata": {},
   "outputs": [],
   "source": [
    "d = {'a' : 1, 'a' : 2, 'b' : 3}\n",
    "print(type(d))\n",
    "print(d)"
   ]
  },
  {
   "attachments": {},
   "cell_type": "markdown",
   "metadata": {},
   "source": [
    "## OBJECT ORIENTED PROGRAMMING"
   ]
  },
  {
   "cell_type": "code",
   "execution_count": 15,
   "metadata": {},
   "outputs": [],
   "source": [
    "class Student:\n",
    "    def __init__(self, name):\n",
    "        self.name = name\n",
    "        self.marks = {}\n",
    "    def addMarks(self, subject, marks):\n",
    "        self.marks.update({subject : marks})\n",
    "    def printTotal(self):\n",
    "        total = 0\n",
    "        maximum = 0\n",
    "        for key in self.marks:\n",
    "            total += self.marks[key]\n",
    "            maximum += 100\n",
    "        print(self.name, 'got', total, 'marks', 'out of', maximum)"
   ]
  },
  {
   "cell_type": "code",
   "execution_count": 16,
   "metadata": {},
   "outputs": [
    {
     "name": "stdout",
     "output_type": "stream",
     "text": [
      "Person-1 got 190 marks out of 200\n"
     ]
    }
   ],
   "source": [
    "s1 = Student('Person-1')\n",
    "s1.addMarks('Math', 100)\n",
    "s1.addMarks('Science', 90)\n",
    "s1.printTotal()"
   ]
  },
  {
   "attachments": {},
   "cell_type": "markdown",
   "metadata": {},
   "source": [
    "## CLASS"
   ]
  },
  {
   "cell_type": "code",
   "execution_count": null,
   "metadata": {},
   "outputs": [],
   "source": [
    "class Student:\n",
    "    def __init__(self, name):\n",
    "        self.name = name\n",
    "        self.marks = {}\n",
    "    def addMarks(self, subject, marks):\n",
    "        self.marks.update({subject : marks})\n",
    "    def printTotal(self):\n",
    "        total = 0\n",
    "        maximum = 0\n",
    "        for key in self.marks:\n",
    "            total += self.marks[key]\n",
    "            maximum += 100\n",
    "        print(self.name, 'got', total, 'marks', 'out of', maximum)\n",
    "        "
   ]
  },
  {
   "cell_type": "code",
   "execution_count": null,
   "metadata": {},
   "outputs": [],
   "source": [
    "s1 = Student('Person-1')\n",
    "s1.addMarks('Math', 100)\n",
    "s1.addMarks('Science', 90)\n",
    "s1.printTotal()"
   ]
  },
  {
   "attachments": {},
   "cell_type": "markdown",
   "metadata": {},
   "source": [
    "## ABSTRACTION"
   ]
  },
  {
   "cell_type": "code",
   "execution_count": null,
   "metadata": {},
   "outputs": [],
   "source": [
    "class Pet:\n",
    "    def __init__(self, name, kind):\n",
    "        self.name = name\n",
    "        self.kind = kind\n",
    "    \n",
    "    def greet(self):\n",
    "        print('Hello, I am', self.name, 'and I am a', self.kind)\n",
    "    def describe(self):\n",
    "        print(self.name, 'is a', self.kind)\n",
    "\n",
    "class Parrot(Pet):\n",
    "    def __init__(self, name):\n",
    "        Pet.__init__(self, name, 'Parrot')\n",
    "        \n",
    "    def greet(self):\n",
    "        print(\"Phew Phew!\", self.name, 'says hi!')\n",
    "\n",
    "class Dog(Pet):\n",
    "    def __init__(self, name, breed):\n",
    "        Pet.__init__(self, name, 'Dog')\n",
    "        self.breed = breed\n",
    "    def greet(self):\n",
    "        print(\"Woof Woof!\", self.name, 'says hi!')\n",
    "    \n",
    "    def describe(self):\n",
    "        print(self.name, 'is a', self.breed)\n",
    "\n",
    "class Cat(Pet):\n",
    "    def __init__(self, name,color):\n",
    "        Pet.__init__(self, name, 'Cat')\n",
    "        self.color = color\n",
    "    def greet(self):\n",
    "        print(\"Meow Meow!\", self.name, 'says hi!')\n",
    "    def isBlack(self):\n",
    "        if self.color == 'Black':\n",
    "            return True\n",
    "        else:\n",
    "            return False\n",
    "        \n",
    "p1 = Parrot('Polly')\n",
    "p2 = Dog('Rex', 'German Shepherd')\n",
    "p3 = Cat('Tom', 'Black')\n",
    "p4 = Cat('Jerry', 'White')\n",
    "\n",
    "p1.greet()\n",
    "p2.greet()\n",
    "p3.greet()\n",
    "p4.greet()\n",
    "\n",
    "\n",
    "p1.describe()\n",
    "p2.describe()\n",
    "p3.describe()\n"
   ]
  },
  {
   "attachments": {},
   "cell_type": "markdown",
   "metadata": {},
   "source": [
    "## FILE HANDLING"
   ]
  },
  {
   "attachments": {},
   "cell_type": "markdown",
   "metadata": {},
   "source": [
    "### FILE WRITING"
   ]
  },
  {
   "cell_type": "code",
   "execution_count": null,
   "metadata": {},
   "outputs": [],
   "source": [
    "f1 = open('file1.txt', 'w')\n",
    "f1.write('Hello World!\\nThis is a new line.')\n",
    "f1.close()\n"
   ]
  },
  {
   "attachments": {},
   "cell_type": "markdown",
   "metadata": {},
   "source": [
    "### FILE READING"
   ]
  },
  {
   "cell_type": "code",
   "execution_count": 18,
   "metadata": {},
   "outputs": [
    {
     "name": "stdout",
     "output_type": "stream",
     "text": [
      "Hello World!\n",
      "This is a new line.\n"
     ]
    }
   ],
   "source": [
    "f2 = open('file1.txt', 'r')\n",
    "print(f2.read())\n",
    "f2.close()"
   ]
  },
  {
   "attachments": {},
   "cell_type": "markdown",
   "metadata": {},
   "source": [
    "### LINE BY LINE READING"
   ]
  },
  {
   "cell_type": "code",
   "execution_count": 17,
   "metadata": {},
   "outputs": [
    {
     "name": "stdout",
     "output_type": "stream",
     "text": [
      "Hello World!\n",
      "This is a new line.\n"
     ]
    }
   ],
   "source": [
    "f3 = open('file1.txt', 'r')\n",
    "for l in f3:\n",
    "    print(l.strip())\n",
    "f3.close()"
   ]
  },
  {
   "cell_type": "markdown",
   "metadata": {},
   "source": [
    "## DATABASE OPERATIONS"
   ]
  },
  {
   "cell_type": "code",
   "execution_count": null,
   "metadata": {},
   "outputs": [],
   "source": [
    "from pymongo import MongoClient\n",
    "# IP = 10.3.20.255\n",
    "client = MongoClient('10.3.20.255')\n",
    "friends = client.cs001.friends"
   ]
  },
  {
   "cell_type": "code",
   "execution_count": null,
   "metadata": {},
   "outputs": [],
   "source": [
    "friends.insert_one({'name':'Person-1','year':2018})\n",
    "friends.insert_one({'name':'Person-2','year':2019})\n",
    "friends.insert_one({'name':'Person-3','year':2020})"
   ]
  },
  {
   "cell_type": "code",
   "execution_count": null,
   "metadata": {},
   "outputs": [],
   "source": [
    "\n",
    "friends.update_one({'name':'Person-1'}, {'$set' : {'year' : 2017}})"
   ]
  },
  {
   "cell_type": "code",
   "execution_count": null,
   "metadata": {},
   "outputs": [],
   "source": [
    "friends.find_one({'name':'Person-1'})"
   ]
  },
  {
   "attachments": {},
   "cell_type": "markdown",
   "metadata": {},
   "source": [
    "# Exception Handling"
   ]
  },
  {
   "cell_type": "code",
   "execution_count": 21,
   "metadata": {},
   "outputs": [
    {
     "name": "stdout",
     "output_type": "stream",
     "text": [
      "division by zero\n",
      "Inverse of  1 is 1.0\n",
      "Inverse of  2 is 0.5\n"
     ]
    }
   ],
   "source": [
    "import math\n",
    "\n",
    "def invert(x):\n",
    "    ans = 0\n",
    "    try:\n",
    "        ans = 1/x\n",
    "    except Exception as err:\n",
    "        print(err)\n",
    "    else:\n",
    "        print('Inverse of ', x, 'is', ans)\n",
    "            \n",
    "\n",
    "invert(0)\n",
    "invert(1)\n",
    "invert(2)\n"
   ]
  },
  {
   "cell_type": "code",
   "execution_count": 22,
   "metadata": {},
   "outputs": [
    {
     "name": "stdout",
     "output_type": "stream",
     "text": [
      "1 / 1 = 1.0\n",
      "1 / 2 = 0.5\n",
      "1 / 0 = Undefined\n",
      "1 / abc = Undefined\n",
      "1 / [1, 4, 6] = Undefined\n",
      "1 / 5 = 0.2\n"
     ]
    }
   ],
   "source": [
    "def invert(x):\n",
    "    ans = 0\n",
    "    try:\n",
    "        ans = 1/x\n",
    "    except Exception as err:\n",
    "        pass\n",
    "    else:\n",
    "        return ans\n",
    "    \n",
    "li = [1,2,0,\"abc\",[1,4,6],5]\n",
    "for data in li:\n",
    "    res = invert(data)\n",
    "    if res != None:\n",
    "        print('1 /',data,'=',res)\n",
    "    else:\n",
    "        print('1 /',data,'=','Undefined')\n",
    "\n"
   ]
  },
  {
   "attachments": {},
   "cell_type": "markdown",
   "metadata": {},
   "source": [
    "# LIBRARIES"
   ]
  },
  {
   "attachments": {},
   "cell_type": "markdown",
   "metadata": {},
   "source": [
    "## NUMPY\n"
   ]
  },
  {
   "cell_type": "code",
   "execution_count": null,
   "metadata": {},
   "outputs": [],
   "source": [
    "import numpy as np\n",
    "print(f'Numpy version: {np.__version__}')\n",
    "print()\n",
    "print(f'Random Tensor:')\n",
    "data = 10 * np.random.random((3,4))\n",
    "print(data)\n",
    "print()\n",
    "print(f'Random Integer Tensor:')\n",
    "data = np.random.randint(10, size=(3,4))\n",
    "print(data)\n",
    "print()"
   ]
  },
  {
   "attachments": {},
   "cell_type": "markdown",
   "metadata": {},
   "source": [
    "### SLICING "
   ]
  },
  {
   "cell_type": "code",
   "execution_count": null,
   "metadata": {},
   "outputs": [],
   "source": [
    "print(f'Random Integer Tensor:')\n",
    "print(data)\n",
    "print()\n",
    "print(f'Print 2nd row:')\n",
    "print(data[1])\n",
    "print()\n",
    "print(f'Print 2nd row, 3rd column:')\n",
    "print(data[1,2])"
   ]
  },
  {
   "attachments": {},
   "cell_type": "markdown",
   "metadata": {},
   "source": [
    "### BASIC TENSORS"
   ]
  },
  {
   "cell_type": "code",
   "execution_count": null,
   "metadata": {},
   "outputs": [],
   "source": [
    "print(f'Zero Tensor:')\n",
    "print(np.zeros((3,4)))\n",
    "print(f'One Tensor:')\n",
    "print(np.ones((3,4)))\n",
    "print(f'Identity Matrix:')\n",
    "print(np.eye(3))\n"
   ]
  },
  {
   "attachments": {},
   "cell_type": "markdown",
   "metadata": {},
   "source": [
    "### OTHER INBUILT LIBRARIES"
   ]
  },
  {
   "cell_type": "code",
   "execution_count": null,
   "metadata": {},
   "outputs": [],
   "source": [
    "data = np.matrix([[1,2,3],[4,5,6],[7,8,9]])\n",
    "print(data)\n",
    "print()\n",
    "print(f'The Square of the Matrix:\\n{np.square(data)}')\n",
    "print()\n",
    "print(f'The Square Root of the Matrix:\\n{np.sqrt(data)}')\n",
    "print()\n",
    "print(f'The Transpose of the Matrix:\\n{data.T}')\n",
    "print()"
   ]
  },
  {
   "attachments": {},
   "cell_type": "markdown",
   "metadata": {},
   "source": [
    "## EVALUATION \n",
    "### FOR LOOP"
   ]
  },
  {
   "cell_type": "code",
   "execution_count": 79,
   "metadata": {},
   "outputs": [
    {
     "name": "stdout",
     "output_type": "stream",
     "text": [
      "The Square of 1 is 1\n",
      "The Square of 2 is 4\n",
      "The Square of 3 is 9\n",
      "The Square of 4 is 16\n",
      "The Square of 5 is 25\n",
      "The Square of 6 is 36\n",
      "The Square of 7 is 49\n",
      "The Square of 8 is 64\n",
      "The Square of 9 is 81\n",
      "\n",
      "The square of 1 is 1\n",
      "The square of 2 is 4\n",
      "The square of 3 is 9\n",
      "The square of 4 is 16\n",
      "0\n",
      "2\n",
      "4\n",
      "6\n",
      "8\n"
     ]
    }
   ],
   "source": [
    "li = [1,2,3,4,5,6,7,8,9]\n",
    "for data in li:\n",
    "    print(f'The Square of {data} is {data**2}')\n",
    "print()\n",
    "for i in range(1,5):\n",
    "    print(f'The square of {i} is {i**2}')\n",
    "\n",
    "start = 0\n",
    "End = 10\n",
    "step = 2\n",
    "for i in range(start, End, step):\n",
    "    print(i)\n"
   ]
  },
  {
   "attachments": {},
   "cell_type": "markdown",
   "metadata": {},
   "source": [
    "## PYGAMES"
   ]
  },
  {
   "cell_type": "code",
   "execution_count": 1,
   "metadata": {},
   "outputs": [
    {
     "name": "stdout",
     "output_type": "stream",
     "text": [
      "pygame 2.1.2 (SDL 2.0.16, Python 3.9.2)\n",
      "Hello from the pygame community. https://www.pygame.org/contribute.html\n"
     ]
    },
    {
     "ename": "error",
     "evalue": "video system not initialized",
     "output_type": "error",
     "traceback": [
      "\u001b[0;31m---------------------------------------------------------------------------\u001b[0m",
      "\u001b[0;31merror\u001b[0m                                     Traceback (most recent call last)",
      "Cell \u001b[0;32mIn [1], line 14\u001b[0m\n\u001b[1;32m     12\u001b[0m pygame\u001b[39m.\u001b[39mdisplay\u001b[39m.\u001b[39mflip()\n\u001b[1;32m     13\u001b[0m \u001b[39mwhile\u001b[39;00m \u001b[39mTrue\u001b[39;00m:\n\u001b[0;32m---> 14\u001b[0m     \u001b[39mfor\u001b[39;00m event \u001b[39min\u001b[39;00m pygame\u001b[39m.\u001b[39;49mevent\u001b[39m.\u001b[39;49mget():\n\u001b[1;32m     15\u001b[0m         \u001b[39mif\u001b[39;00m event\u001b[39m.\u001b[39mtype \u001b[39m==\u001b[39m pygame\u001b[39m.\u001b[39mQUIT:\n\u001b[1;32m     16\u001b[0m             pygame\u001b[39m.\u001b[39mquit()\n",
      "\u001b[0;31merror\u001b[0m: video system not initialized"
     ]
    },
    {
     "ename": "",
     "evalue": "",
     "output_type": "error",
     "traceback": [
      "\u001b[1;31mThe Kernel crashed while executing code in the the current cell or a previous cell. Please review the code in the cell(s) to identify a possible cause of the failure. Click <a href='https://aka.ms/vscodeJupyterKernelCrash'>here</a> for more info. View Jupyter <a href='command:jupyter.viewOutput'>log</a> for further details."
     ]
    }
   ],
   "source": [
    "import pygame       \n",
    "import sys\n",
    "pygame.init()\n",
    "pygame.display.set_caption(\"2005441\")\n",
    "screen = pygame.display.set_mode((640,640))\n",
    "for i in range(8):\n",
    "    for j in range(8):\n",
    "        if (i+j)%2 == 0:\n",
    "            pygame.draw.rect(screen, (255,255,255), (i*80,j*80,80,80))\n",
    "        else:\n",
    "            pygame.draw.rect(screen, (128,128,128), (i*80,j*80,80,80))\n",
    "pygame.display.flip()\n",
    "while True:\n",
    "    for event in pygame.event.get():\n",
    "        if event.type == pygame.QUIT:\n",
    "            pygame.quit()\n",
    "            exit()\n"
   ]
  },
  {
   "cell_type": "code",
   "execution_count": null,
   "metadata": {},
   "outputs": [],
   "source": [
    "import pygame       \n",
    "import sys\n",
    "pygame.init()\n",
    "pygame.display.set_caption(\"2005441\")\n",
    "screen = pygame.display.set_mode((600,600))\n",
    "screen.fill((128,128,128))\n",
    "for i in range(3):\n",
    "    for j in range(3):\n",
    "        pygame.draw.line(screen, (255,255,255), (i*200,j*200), (i*200+200,j*200))\n",
    "        pygame.draw.line(screen, (255,255,255), (i*200,j*200), (i*200,j*200+200))\n",
    "        if (i+j)%2 == 0:\n",
    "            pygame.draw.circle(screen, (255,255,255), (i*200+100,j*200+100), 50)\n",
    "        else:\n",
    "            pygame.draw.rect(screen, (255,255,255), (i*200+50,j*200+50,100,100), 5)\n",
    "    pygame.draw.line(screen, (255,0,0), (0,0), (600,600), 5)\n",
    "\n",
    "pygame.display.flip()\n",
    "while True:\n",
    "    for event in pygame.event.get():\n",
    "        if event.type == pygame.QUIT:\n",
    "            pygame.quit()\n",
    "            exit()\n"
   ]
  },
  {
   "cell_type": "code",
   "execution_count": 2,
   "metadata": {},
   "outputs": [
    {
     "ename": "error",
     "evalue": "video system not initialized",
     "output_type": "error",
     "traceback": [
      "\u001b[0;31m---------------------------------------------------------------------------\u001b[0m",
      "\u001b[0;31merror\u001b[0m                                     Traceback (most recent call last)",
      "Cell \u001b[0;32mIn [2], line 12\u001b[0m\n\u001b[1;32m     10\u001b[0m pygame\u001b[39m.\u001b[39mdisplay\u001b[39m.\u001b[39mflip()\n\u001b[1;32m     11\u001b[0m \u001b[39mwhile\u001b[39;00m \u001b[39mTrue\u001b[39;00m:\n\u001b[0;32m---> 12\u001b[0m     \u001b[39mfor\u001b[39;00m event \u001b[39min\u001b[39;00m pygame\u001b[39m.\u001b[39;49mevent\u001b[39m.\u001b[39;49mget():\n\u001b[1;32m     13\u001b[0m         \u001b[39mif\u001b[39;00m event\u001b[39m.\u001b[39mtype \u001b[39m==\u001b[39m pygame\u001b[39m.\u001b[39mQUIT:\n\u001b[1;32m     14\u001b[0m             pygame\u001b[39m.\u001b[39mquit()\n",
      "\u001b[0;31merror\u001b[0m: video system not initialized"
     ]
    },
    {
     "ename": "",
     "evalue": "",
     "output_type": "error",
     "traceback": [
      "\u001b[1;31mThe Kernel crashed while executing code in the the current cell or a previous cell. Please review the code in the cell(s) to identify a possible cause of the failure. Click <a href='https://aka.ms/vscodeJupyterKernelCrash'>here</a> for more info. View Jupyter <a href='command:jupyter.viewOutput'>log</a> for further details."
     ]
    }
   ],
   "source": [
    "import pygame \n",
    "import random\n",
    "\n",
    "pygame.init()\n",
    "pygame.display.set_caption(\"2005441\")\n",
    "screen = pygame.display.set_mode((600,600))\n",
    "screen.fill((128,128,128))\n",
    "for i in range(100):\n",
    "    pygame.draw.circle(screen, (random.randint(0,255),random.randint(0,255),random.randint(0,255)), (random.randint(0,600),random.randint(0,600)), random.randint(0,100))\n",
    "pygame.display.flip()\n",
    "while True:\n",
    "    for event in pygame.event.get():\n",
    "        if event.type == pygame.QUIT:\n",
    "            pygame.quit()\n",
    "            exit()"
   ]
  },
  {
   "cell_type": "code",
   "execution_count": 1,
   "metadata": {},
   "outputs": [
    {
     "name": "stdout",
     "output_type": "stream",
     "text": [
      "pygame 2.1.2 (SDL 2.0.16, Python 3.9.2)\n",
      "Hello from the pygame community. https://www.pygame.org/contribute.html\n"
     ]
    },
    {
     "ename": "error",
     "evalue": "video system not initialized",
     "output_type": "error",
     "traceback": [
      "\u001b[0;31m---------------------------------------------------------------------------\u001b[0m",
      "\u001b[0;31merror\u001b[0m                                     Traceback (most recent call last)",
      "Cell \u001b[0;32mIn [1], line 21\u001b[0m\n\u001b[1;32m     19\u001b[0m pygame\u001b[39m.\u001b[39mdisplay\u001b[39m.\u001b[39mflip()\n\u001b[1;32m     20\u001b[0m \u001b[39mwhile\u001b[39;00m \u001b[39mTrue\u001b[39;00m:\n\u001b[0;32m---> 21\u001b[0m     \u001b[39mfor\u001b[39;00m event \u001b[39min\u001b[39;00m pygame\u001b[39m.\u001b[39;49mevent\u001b[39m.\u001b[39;49mget():\n\u001b[1;32m     22\u001b[0m         \u001b[39mif\u001b[39;00m event\u001b[39m.\u001b[39mtype \u001b[39m==\u001b[39m pygame\u001b[39m.\u001b[39mQUIT:\n\u001b[1;32m     23\u001b[0m             pygame\u001b[39m.\u001b[39mquit()\n",
      "\u001b[0;31merror\u001b[0m: video system not initialized"
     ]
    },
    {
     "ename": "",
     "evalue": "",
     "output_type": "error",
     "traceback": [
      "\u001b[1;31mThe Kernel crashed while executing code in the the current cell or a previous cell. Please review the code in the cell(s) to identify a possible cause of the failure. Click <a href='https://aka.ms/vscodeJupyterKernelCrash'>here</a> for more info. View Jupyter <a href='command:jupyter.viewOutput'>log</a> for further details."
     ]
    }
   ],
   "source": [
    "import pygame \n",
    "import random\n",
    "import math\n",
    "pygame.init()\n",
    "pygame.display.set_caption(\"2005441\")\n",
    "screen = pygame.display.set_mode((600,600))\n",
    "screen.fill((128,128,128))\n",
    "   # fractal\n",
    "def draw_circle(x,y,r):\n",
    "    if r > 1:\n",
    "        pygame.draw.circle(screen, (random.randint(0,255),random.randint(0,255),random.randint(0,255)), (x,y), r)\n",
    "        draw_circle(x+r,y,r/2)\n",
    "        draw_circle(x-r,y,r/2)\n",
    "        draw_circle(x,y+r,r/2)\n",
    "        draw_circle(x,y-r,r/2)\n",
    "draw_circle(300,300,300)\n",
    "\n",
    "def primeSpiral():\n",
    "    \n",
    "pygame.display.flip()\n",
    "while True:\n",
    "    for event in pygame.event.get():\n",
    "        if event.type == pygame.QUIT:\n",
    "            pygame.quit()\n",
    "            exit()\n"
   ]
  },
  {
   "cell_type": "code",
   "execution_count": 1,
   "metadata": {},
   "outputs": [
    {
     "name": "stdout",
     "output_type": "stream",
     "text": [
      "pygame 2.1.2 (SDL 2.0.16, Python 3.9.2)\n",
      "Hello from the pygame community. https://www.pygame.org/contribute.html\n"
     ]
    },
    {
     "ename": "error",
     "evalue": "video system not initialized",
     "output_type": "error",
     "traceback": [
      "\u001b[0;31m---------------------------------------------------------------------------\u001b[0m",
      "\u001b[0;31merror\u001b[0m                                     Traceback (most recent call last)",
      "Cell \u001b[0;32mIn [1], line 27\u001b[0m\n\u001b[1;32m     24\u001b[0m pygame\u001b[39m.\u001b[39mdisplay\u001b[39m.\u001b[39mflip()\n\u001b[1;32m     26\u001b[0m \u001b[39mwhile\u001b[39;00m \u001b[39mTrue\u001b[39;00m:\n\u001b[0;32m---> 27\u001b[0m     \u001b[39mfor\u001b[39;00m event \u001b[39min\u001b[39;00m pygame\u001b[39m.\u001b[39;49mevent\u001b[39m.\u001b[39;49mget():\n\u001b[1;32m     28\u001b[0m         \u001b[39mif\u001b[39;00m event\u001b[39m.\u001b[39mtype \u001b[39m==\u001b[39m pygame\u001b[39m.\u001b[39mQUIT:\n\u001b[1;32m     29\u001b[0m             pygame\u001b[39m.\u001b[39mquit()\n",
      "\u001b[0;31merror\u001b[0m: video system not initialized"
     ]
    },
    {
     "ename": "",
     "evalue": "",
     "output_type": "error",
     "traceback": [
      "\u001b[1;31mThe Kernel crashed while executing code in the the current cell or a previous cell. Please review the code in the cell(s) to identify a possible cause of the failure. Click <a href='https://aka.ms/vscodeJupyterKernelCrash'>here</a> for more info. View Jupyter <a href='command:jupyter.viewOutput'>log</a> for further details."
     ]
    }
   ],
   "source": [
    "import pygame \n",
    "import random\n",
    "import math\n",
    "pygame.init()\n",
    "pygame.display.set_caption(\"2005441\")   \n",
    "screen = pygame.display.set_mode((600,600))\n",
    "screen.fill((128,128,128))\n",
    "# zoom in on screen permisson\n",
    "\n",
    "    \n",
    "def mandelbrot(c):\n",
    "    z = c\n",
    "    for i in range(100):\n",
    "        if abs(z) > 2:\n",
    "            return i\n",
    "        z = z*z + c\n",
    "    return 100\n",
    "for i in range(600):\n",
    "    for j in range(600):\n",
    "        c = complex(-2 + 4*i/600, -2 + 4*j/600)\n",
    "        n = mandelbrot(c)\n",
    "        if n < 100:\n",
    "            pygame.draw.rect(screen, (255*n/100,255*n/100,255*n/100), (i,j,1,1))\n",
    "pygame.display.flip()\n",
    "\n",
    "while True:\n",
    "    for event in pygame.event.get():\n",
    "        if event.type == pygame.QUIT:\n",
    "            pygame.quit()\n",
    "            exit()"
   ]
  },
  {
   "attachments": {},
   "cell_type": "markdown",
   "metadata": {},
   "source": [
    "## PyPlot"
   ]
  },
  {
   "cell_type": "code",
   "execution_count": 1,
   "metadata": {},
   "outputs": [
    {
     "data": {
      "text/plain": [
       "<matplotlib.collections.PathCollection at 0x7f1d06e7e910>"
      ]
     },
     "execution_count": 1,
     "metadata": {},
     "output_type": "execute_result"
    },
    {
     "data": {
      "image/png": "[encoded data removed]",
      "text/plain": [
       "<Figure size 640x480 with 1 Axes>"
      ]
     },
     "metadata": {},
     "output_type": "display_data"
    }
   ],
   "source": [
    "import numpy as np\n",
    "import matplotlib.pyplot as plt\n",
    "\n",
    "x = np.random.rand(20)\n",
    "y = np.random.rand(20)\n",
    "\n",
    "plt.scatter(x,y)"
   ]
  },
  {
   "cell_type": "code",
   "execution_count": 24,
   "metadata": {},
   "outputs": [
    {
     "data": {
      "image/png": "[encoded data removed]",
      "text/plain": [
       "<Figure size 640x480 with 1 Axes>"
      ]
     },
     "metadata": {},
     "output_type": "display_data"
    }
   ],
   "source": [
    "x = np.arange(0,2,0.1)\n",
    "y = np.log(1+2*x)\n",
    "plt.plot(x,y, label = 'log')\n",
    "y1 = x ** 2\n",
    "plt.plot(x, y1, c='g', ls = '--', lw = 2, marker = 's', mfc = 'r', label = 'power')\n",
    "plt.title('some function')\n",
    "plt.xlabel('x')\n",
    "plt.ylabel('f(x)')\n",
    "plt.legend()\n",
    "plt.show()"
   ]
  },
  {
   "cell_type": "code",
   "execution_count": null,
   "metadata": {},
   "outputs": [],
   "source": []
  }
 ],
 "metadata": {
  "kernelspec": {
   "display_name": "Python 3",
   "language": "python",
   "name": "python3"
  },
  "language_info": {
   "codemirror_mode": {
    "name": "ipython",
    "version": 3
   },
   "file_extension": ".py",
   "mimetype": "text/x-python",
   "name": "python",
   "nbconvert_exporter": "python",
   "pygments_lexer": "ipython3",
   "version": "3.9.2"
  },
  "orig_nbformat": 4,
  "vscode": {
   "interpreter": {
    "hash": "31f2aee4e71d21fbe5cf8b01ff0e069b9275f58929596ceb00d14d90e3e16cd6"
   }
  }
 },
 "nbformat": 4,
 "nbformat_minor": 2
}
